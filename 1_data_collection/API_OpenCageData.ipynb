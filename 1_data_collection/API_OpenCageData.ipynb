{
 "cells": [
  {
   "cell_type": "markdown",
   "metadata": {},
   "source": [
    "**Use OpenCageData API to obtain reverse geolocation data**\n",
    "\n",
    "---"
   ]
  },
  {
   "cell_type": "code",
   "execution_count": 1,
   "metadata": {},
   "outputs": [],
   "source": [
    "import requests\n",
    "import pandas as pd\n",
    "from tqdm import tqdm_notebook"
   ]
  },
  {
   "cell_type": "markdown",
   "metadata": {},
   "source": [
    "### Pull data from the API"
   ]
  },
  {
   "cell_type": "markdown",
   "metadata": {},
   "source": [
    "#### Get Earthwatch dataset"
   ]
  },
  {
   "cell_type": "code",
   "execution_count": 2,
   "metadata": {},
   "outputs": [],
   "source": [
    "df_masterfile = pd.read_csv('Earthwatch_Data/Darksky_df_features.csv')"
   ]
  },
  {
   "cell_type": "code",
   "execution_count": 3,
   "metadata": {},
   "outputs": [
    {
     "data": {
      "text/plain": [
       "(24203, 20)"
      ]
     },
     "execution_count": 3,
     "metadata": {},
     "output_type": "execute_result"
    }
   ],
   "source": [
    "df_masterfile.shape"
   ]
  },
  {
   "cell_type": "markdown",
   "metadata": {},
   "source": [
    "#### Get OpenCageData using the API"
   ]
  },
  {
   "cell_type": "code",
   "execution_count": 5,
   "metadata": {},
   "outputs": [],
   "source": [
    "key = '5864706eea944973973104d86bd0e82d'"
   ]
  },
  {
   "cell_type": "code",
   "execution_count": 6,
   "metadata": {},
   "outputs": [
    {
     "data": {
      "application/vnd.jupyter.widget-view+json": {
       "model_id": "c18b391777e34a74b33af5e496046cee",
       "version_major": 2,
       "version_minor": 0
      },
      "text/plain": [
       "HBox(children=(IntProgress(value=1, bar_style='info', max=1), HTML(value='')))"
      ]
     },
     "metadata": {},
     "output_type": "display_data"
    },
    {
     "name": "stdout",
     "output_type": "stream",
     "text": [
      "\n"
     ]
    }
   ],
   "source": [
    "continent = []\n",
    "country = []\n",
    "state = []\n",
    "county = []\n",
    "city = []\n",
    "town = []\n",
    "village = []\n",
    "\n",
    "for i, j in  tqdm_notebook (df_masterfile[:10].iterrows()):\n",
    "    lat = j[17]\n",
    "    long = (j[18])#removes whitespace\n",
    "\n",
    "    url_template = 'https://api.opencagedata.com/geocode/v1/json?q={}+{}&key={}'\n",
    "    request_url = url_template.format(lat,long,key)\n",
    "    response = requests.get(request_url)\n",
    "    json_data = response.json()\n",
    "   \n",
    "    try:\n",
    "        continent.append(json_data['results'][0]['components']['continent'])\n",
    "    except:\n",
    "\n",
    "        continent.append('None')\n",
    "    try:    \n",
    "        country.append(json_data['results'][0]['components']['country'])\n",
    "    except:\n",
    "        country.append('None')\n",
    "    try:\n",
    "        state.append(json_data['results'][0]['components']['state'])\n",
    "    except:\n",
    "        state.append(\"None\")\n",
    "    try:\n",
    "        county.append(json_data['results'][0]['components']['county'])\n",
    "    except:\n",
    "        county.append(\"None\")\n",
    "    try:\n",
    "        city.append(json_data['results'][0]['components']['city'])\n",
    "    except:\n",
    "        city.append(\"None\")\n",
    "    try:\n",
    "        town.append(json_data['results'][0]['components']['town'])\n",
    "    except:\n",
    "        town.append(\"None\")\n",
    "    try:\n",
    "        village.append(json_data['results'][0]['components']['village'])\n",
    "    except:\n",
    "        village.append(\"None\")\n"
   ]
  },
  {
   "cell_type": "code",
   "execution_count": 7,
   "metadata": {},
   "outputs": [],
   "source": [
    "location = pd.DataFrame({'continent':continent, 'country':country,'state': state, 'county':county,\n",
    "             'city': city, 'town': town, 'village': village})"
   ]
  },
  {
   "cell_type": "code",
   "execution_count": 8,
   "metadata": {},
   "outputs": [],
   "source": [
    "location.to_csv('Earthwatch_Data/Opencagedata/ocd_23500_24500.csv', index = False )"
   ]
  },
  {
   "cell_type": "markdown",
   "metadata": {},
   "source": [
    "### Combine dataframes"
   ]
  },
  {
   "cell_type": "code",
   "execution_count": 9,
   "metadata": {},
   "outputs": [],
   "source": [
    "ocd_1 = pd.read_csv('Earthwatch_data/Opencagedata/ocd_100.csv')\n",
    "ocd_2 = pd.read_csv('Earthwatch_data/Opencagedata/ocd_100_1000.csv')\n",
    "ocd_3 = pd.read_csv('Earthwatch_data/Opencagedata/ocd_1000_2000.csv')\n",
    "ocd_4 = pd.read_csv('Earthwatch_data/Opencagedata/ocd_2000_3000.csv')\n",
    "ocd_5 = pd.read_csv('Earthwatch_data/Opencagedata/ocd_3000_4000.csv')\n",
    "ocd_6 = pd.read_csv('Earthwatch_data/Opencagedata/ocd_4000_4500.csv')\n",
    "ocd_7 = pd.read_csv('Earthwatch_data/Opencagedata/ocd_4500_5000.csv')\n",
    "ocd_8 = pd.read_csv('Earthwatch_data/Opencagedata/ocd_5000_6000.csv')\n",
    "ocd_9 = pd.read_csv('Earthwatch_data/Opencagedata/ocd_6000_7000.csv')\n",
    "ocd_10 = pd.read_csv('Earthwatch_data/Opencagedata/ocd_7000_8000.csv')\n",
    "ocd_11 = pd.read_csv('Earthwatch_data/Opencagedata/ocd_8000_9500.csv')\n",
    "ocd_12 = pd.read_csv('Earthwatch_data/Opencagedata/ocd_9500_10000.csv')\n",
    "ocd_13 = pd.read_csv('Earthwatch_data/Opencagedata/ocd_10000_12000.csv')\n",
    "ocd_14 = pd.read_csv('Earthwatch_data/Opencagedata/ocd_12000_13000.csv')\n",
    "ocd_15 = pd.read_csv('Earthwatch_data/Opencagedata/ocd_13000_14500.csv')\n",
    "ocd_16 = pd.read_csv('Earthwatch_data/Opencagedata/ocd_14500_15000.csv')\n",
    "ocd_17 = pd.read_csv('Earthwatch_data/Opencagedata/ocd_15000_17000.csv')\n",
    "ocd_18 = pd.read_csv('Earthwatch_data/Opencagedata/ocd_17000_18000.csv')\n",
    "ocd_19 = pd.read_csv('Earthwatch_data/Opencagedata/ocd_18000_19500.csv')\n",
    "ocd_20 = pd.read_csv('Earthwatch_data/Opencagedata/ocd_19500_20000.csv')\n",
    "ocd_21 = pd.read_csv('Earthwatch_data/Opencagedata/ocd_20000_22000.csv')\n",
    "ocd_22 = pd.read_csv('Earthwatch_data/Opencagedata/ocd_22000_23000.csv')\n",
    "ocd_23 = pd.read_csv('Earthwatch_data/Opencagedata/ocd_23000_23500.csv')\n",
    "ocd_24 = pd.read_csv('Earthwatch_data/Opencagedata/ocd_23500_24500.csv')"
   ]
  },
  {
   "cell_type": "code",
   "execution_count": 10,
   "metadata": {},
   "outputs": [],
   "source": [
    "frames = [ocd_1,ocd_2,ocd_3, ocd_4, ocd_5, ocd_6, ocd_7, ocd_8, ocd_9,\n",
    "         ocd_10, ocd_11, ocd_12, ocd_13, ocd_14, ocd_15, ocd_16, ocd_17, ocd_18, ocd_19, ocd_20, ocd_21,\n",
    "         ocd_22, ocd_23, ocd_24]\n",
    "\n",
    "result = pd.concat(frames)"
   ]
  },
  {
   "cell_type": "code",
   "execution_count": 11,
   "metadata": {},
   "outputs": [],
   "source": [
    "result = result.reset_index(drop=True)"
   ]
  },
  {
   "cell_type": "code",
   "execution_count": 12,
   "metadata": {},
   "outputs": [],
   "source": [
    "result.to_csv('Earthwatch_Data/Opencagedata/ocd_complete.csv', index = False)"
   ]
  }
 ],
 "metadata": {
  "kernelspec": {
   "display_name": "Python 3",
   "language": "python",
   "name": "python3"
  },
  "language_info": {
   "codemirror_mode": {
    "name": "ipython",
    "version": 3
   },
   "file_extension": ".py",
   "mimetype": "text/x-python",
   "name": "python",
   "nbconvert_exporter": "python",
   "pygments_lexer": "ipython3",
   "version": "3.7.4"
  },
  "toc": {
   "base_numbering": 1,
   "nav_menu": {},
   "number_sections": true,
   "sideBar": true,
   "skip_h1_title": false,
   "title_cell": "Table of Contents",
   "title_sidebar": "Contents",
   "toc_cell": false,
   "toc_position": {},
   "toc_section_display": true,
   "toc_window_display": false
  },
  "varInspector": {
   "cols": {
    "lenName": 16,
    "lenType": 16,
    "lenVar": 40
   },
   "kernels_config": {
    "python": {
     "delete_cmd_postfix": "",
     "delete_cmd_prefix": "del ",
     "library": "var_list.py",
     "varRefreshCmd": "print(var_dic_list())"
    },
    "r": {
     "delete_cmd_postfix": ") ",
     "delete_cmd_prefix": "rm(",
     "library": "var_list.r",
     "varRefreshCmd": "cat(var_dic_list()) "
    }
   },
   "types_to_exclude": [
    "module",
    "function",
    "builtin_function_or_method",
    "instance",
    "_Feature"
   ],
   "window_display": false
  }
 },
 "nbformat": 4,
 "nbformat_minor": 2
}
