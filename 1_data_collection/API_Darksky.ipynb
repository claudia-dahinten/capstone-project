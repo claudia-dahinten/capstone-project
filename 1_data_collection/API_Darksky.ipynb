{
 "cells": [
  {
   "cell_type": "markdown",
   "metadata": {},
   "source": [
    "\n",
    "\n",
    "**Use Darksky API to obtain weather data by geolocation and date**\n",
    "\n",
    "---\n",
    "\n",
    "\n"
   ]
  },
  {
   "cell_type": "code",
   "execution_count": 1,
   "metadata": {},
   "outputs": [],
   "source": [
    "import pandas as pd\n",
    "import seaborn as sns\n",
    "\n",
    "import re\n",
    "import requests\n",
    "from tqdm import tqdm_notebook"
   ]
  },
  {
   "cell_type": "markdown",
   "metadata": {},
   "source": [
    "### Prepare Dataset for Darksky"
   ]
  },
  {
   "cell_type": "markdown",
   "metadata": {},
   "source": [
    "#### Import data (all years)"
   ]
  },
  {
   "cell_type": "code",
   "execution_count": 2,
   "metadata": {},
   "outputs": [],
   "source": [
    "df_2019 = pd.read_excel('Earthwatch_Data/FWW_full database.xlsm', '2019')\n",
    "df_2018 = pd.read_excel('Earthwatch_Data/FWW_full database.xlsm', '2018') \n",
    "df_2017 = pd.read_excel('Earthwatch_Data/FWW_full database.xlsm', '2017') \n",
    "df_2016 = pd.read_excel('Earthwatch_Data/FWW_full database.xlsm', '2016')\n",
    "df_2015 = pd.read_excel('Earthwatch_Data/FWW_full database.xlsm', '2015')\n",
    "df_2014 = pd.read_excel('Earthwatch_Data/FWW_full database.xlsm', '2014')\n",
    "df_2013 = pd.read_excel('Earthwatch_Data/FWW_full database.xlsm', '2013')\n",
    "df_2012 = pd.read_excel('Earthwatch_Data/FWW_full database.xlsm', '2012')"
   ]
  },
  {
   "cell_type": "markdown",
   "metadata": {},
   "source": [
    "#### Combine into one dataframe"
   ]
  },
  {
   "cell_type": "code",
   "execution_count": 3,
   "metadata": {},
   "outputs": [],
   "source": [
    "df_total = [df_2019, df_2018, df_2017, df_2016, df_2015, df_2014, df_2013, df_2012]\n",
    "\n",
    "df_total = pd.concat(df_total, ignore_index = True)"
   ]
  },
  {
   "cell_type": "markdown",
   "metadata": {},
   "source": [
    "#### Reduce columns"
   ]
  },
  {
   "cell_type": "code",
   "execution_count": 4,
   "metadata": {},
   "outputs": [],
   "source": [
    "df_features = df_total[['Sample Date', 'Site name', 'Geolocation (Latitude, Longitude)', 'Freshwater body type', 'What is the land use in the immediate surroundings?',\n",
    "'What is the bank vegetation? (select all that apply)', 'Is there any of the following on the water surface?',\n",
    "'Are there any pollution sources in the immediate surroundings? (select all that apply)',\n",
    "'Can you see evidence of the following water uses? (select all that apply)', 'What aquatic life is there evidence of? (select all that apply)',\n",
    "'Is the algae...','Estimate the water flow','Estimate the water level','Nitrate','Phosphate']]"
   ]
  },
  {
   "cell_type": "markdown",
   "metadata": {},
   "source": [
    "#### Rename columns"
   ]
  },
  {
   "cell_type": "code",
   "execution_count": 5,
   "metadata": {},
   "outputs": [],
   "source": [
    "df_features = df_features.copy()\n",
    "df_features.rename(columns = {'Sample Date':'sample_date',\n",
    "                              'Site name': 'site_name',\n",
    "                              'Geolocation (Latitude, Longitude)': 'geolocation_lat_long',\n",
    "                              'Freshwater body type': 'fw_bodytype',\n",
    "                              'What is the land use in the immediate surroundings?': 'land_use',\n",
    "                              'What is the bank vegetation? (select all that apply)': 'bank_vegetation',\n",
    "                              'Is there any of the following on the water surface?': 'water_surface',\n",
    "                              'Are there any pollution sources in the immediate surroundings? (select all that apply)': 'pollution_sources',\n",
    "                              'Can you see evidence of the following water uses? (select all that apply)': 'water_use',\n",
    "                              'What aquatic life is there evidence of? (select all that apply)' : 'aquatic_life',\n",
    "                              'Is the algae...': 'algae',\n",
    "                              'Estimate the water flow': 'water_flow',\n",
    "                              'Estimate the water level': 'water_level', 'Nitrate': 'nitrate' ,\n",
    "                              'Phosphate': 'phosphate'}, inplace = True)"
   ]
  },
  {
   "cell_type": "markdown",
   "metadata": {},
   "source": [
    "#### Add date-1, date-2"
   ]
  },
  {
   "cell_type": "code",
   "execution_count": 6,
   "metadata": {},
   "outputs": [],
   "source": [
    "df_features['sample_date_minus1'] = df_features['sample_date'] + pd.DateOffset(-1)\n",
    "df_features['sample_date_minus2'] = df_features['sample_date'] + pd.DateOffset(-2)"
   ]
  },
  {
   "cell_type": "markdown",
   "metadata": {},
   "source": [
    "#### Only include day, month year"
   ]
  },
  {
   "cell_type": "code",
   "execution_count": 7,
   "metadata": {},
   "outputs": [],
   "source": [
    "df_features['sample_date'] = [el.date() for el in df_features['sample_date']]\n",
    "df_features['sample_date_minus1'] = [el.date() for el in df_features['sample_date_minus1']]\n",
    "df_features['sample_date_minus2'] = [el.date() for el in df_features['sample_date_minus2']]"
   ]
  },
  {
   "cell_type": "markdown",
   "metadata": {},
   "source": [
    "#### Add latitude, longitude as separate columns"
   ]
  },
  {
   "cell_type": "code",
   "execution_count": 8,
   "metadata": {},
   "outputs": [],
   "source": [
    "df_features['latitude'] = df_features['geolocation_lat_long'].str.extract(r'(-?\\d+.\\d+)')"
   ]
  },
  {
   "cell_type": "code",
   "execution_count": 9,
   "metadata": {},
   "outputs": [],
   "source": [
    "df_features['longitude'] = df_features['geolocation_lat_long'].str.extract(r'( -?\\d+.\\d+)')\n"
   ]
  },
  {
   "cell_type": "code",
   "execution_count": 10,
   "metadata": {},
   "outputs": [],
   "source": [
    "df_features.reset_index(inplace=True)"
   ]
  },
  {
   "cell_type": "code",
   "execution_count": 11,
   "metadata": {},
   "outputs": [
    {
     "data": {
      "text/html": [
       "<div>\n",
       "<style scoped>\n",
       "    .dataframe tbody tr th:only-of-type {\n",
       "        vertical-align: middle;\n",
       "    }\n",
       "\n",
       "    .dataframe tbody tr th {\n",
       "        vertical-align: top;\n",
       "    }\n",
       "\n",
       "    .dataframe thead th {\n",
       "        text-align: right;\n",
       "    }\n",
       "</style>\n",
       "<table border=\"1\" class=\"dataframe\">\n",
       "  <thead>\n",
       "    <tr style=\"text-align: right;\">\n",
       "      <th></th>\n",
       "      <th>index</th>\n",
       "      <th>sample_date</th>\n",
       "      <th>site_name</th>\n",
       "      <th>geolocation_lat_long</th>\n",
       "      <th>fw_bodytype</th>\n",
       "      <th>land_use</th>\n",
       "      <th>bank_vegetation</th>\n",
       "      <th>water_surface</th>\n",
       "      <th>pollution_sources</th>\n",
       "      <th>water_use</th>\n",
       "      <th>aquatic_life</th>\n",
       "      <th>algae</th>\n",
       "      <th>water_flow</th>\n",
       "      <th>water_level</th>\n",
       "      <th>nitrate</th>\n",
       "      <th>phosphate</th>\n",
       "      <th>sample_date_minus1</th>\n",
       "      <th>sample_date_minus2</th>\n",
       "      <th>latitude</th>\n",
       "      <th>longitude</th>\n",
       "    </tr>\n",
       "  </thead>\n",
       "  <tbody>\n",
       "    <tr>\n",
       "      <td>0</td>\n",
       "      <td>0</td>\n",
       "      <td>2019-11-05</td>\n",
       "      <td>Shimungalu</td>\n",
       "      <td>-15.754, 27.784</td>\n",
       "      <td>River</td>\n",
       "      <td>Agriculture</td>\n",
       "      <td>Trees/shrubsGrass</td>\n",
       "      <td>None</td>\n",
       "      <td>Industrial discharge</td>\n",
       "      <td>BoatingIrrigationSwimmingFishingPublic water s...</td>\n",
       "      <td>Floating plantsPlants emerging from the waterF...</td>\n",
       "      <td>No algae</td>\n",
       "      <td>Slow</td>\n",
       "      <td>Low</td>\n",
       "      <td>0.35</td>\n",
       "      <td>0.150</td>\n",
       "      <td>2019-11-04</td>\n",
       "      <td>2019-11-03</td>\n",
       "      <td>-15.754</td>\n",
       "      <td>27.784</td>\n",
       "    </tr>\n",
       "    <tr>\n",
       "      <td>1</td>\n",
       "      <td>1</td>\n",
       "      <td>2019-11-05</td>\n",
       "      <td>Shimungalu</td>\n",
       "      <td>-15.754, 27.785</td>\n",
       "      <td>River</td>\n",
       "      <td>Industrial</td>\n",
       "      <td>Trees/shrubsGrass</td>\n",
       "      <td>None</td>\n",
       "      <td>Industrial discharge</td>\n",
       "      <td>BoatingIrrigationSwimmingFishingPublic water s...</td>\n",
       "      <td>Floating plantsPlants emerging from the waterF...</td>\n",
       "      <td>No algae</td>\n",
       "      <td>Slow</td>\n",
       "      <td>Low</td>\n",
       "      <td>0.35</td>\n",
       "      <td>0.075</td>\n",
       "      <td>2019-11-04</td>\n",
       "      <td>2019-11-03</td>\n",
       "      <td>-15.754</td>\n",
       "      <td>27.785</td>\n",
       "    </tr>\n",
       "    <tr>\n",
       "      <td>2</td>\n",
       "      <td>2</td>\n",
       "      <td>2019-11-05</td>\n",
       "      <td>custom house</td>\n",
       "      <td>53.348, -6.252</td>\n",
       "      <td>River</td>\n",
       "      <td>Urban Residential</td>\n",
       "      <td>No vegetation cover</td>\n",
       "      <td>LitterOily Sheen</td>\n",
       "      <td>Urban/Road discharge</td>\n",
       "      <td>Boating</td>\n",
       "      <td>Aquatic birds</td>\n",
       "      <td>NaN</td>\n",
       "      <td>Steady</td>\n",
       "      <td>Low</td>\n",
       "      <td>1.50</td>\n",
       "      <td>0.150</td>\n",
       "      <td>2019-11-04</td>\n",
       "      <td>2019-11-03</td>\n",
       "      <td>53.348</td>\n",
       "      <td>-6.252</td>\n",
       "    </tr>\n",
       "    <tr>\n",
       "      <td>3</td>\n",
       "      <td>3</td>\n",
       "      <td>2019-11-05</td>\n",
       "      <td>Shimungalu</td>\n",
       "      <td>-15.754, 27.785</td>\n",
       "      <td>River</td>\n",
       "      <td>Industrial</td>\n",
       "      <td>Trees/shrubsNo vegetation coverGrass</td>\n",
       "      <td>None</td>\n",
       "      <td>Industrial discharge</td>\n",
       "      <td>BoatingIrrigationSwimmingFishingPublic water s...</td>\n",
       "      <td>Floating plantsPlants emerging from the waterF...</td>\n",
       "      <td>NaN</td>\n",
       "      <td>Slow</td>\n",
       "      <td>Low</td>\n",
       "      <td>0.75</td>\n",
       "      <td>0.150</td>\n",
       "      <td>2019-11-04</td>\n",
       "      <td>2019-11-03</td>\n",
       "      <td>-15.754</td>\n",
       "      <td>27.785</td>\n",
       "    </tr>\n",
       "    <tr>\n",
       "      <td>4</td>\n",
       "      <td>4</td>\n",
       "      <td>2019-11-03</td>\n",
       "      <td>borro bucine</td>\n",
       "      <td>43.646, 11.169</td>\n",
       "      <td>Stream</td>\n",
       "      <td>Agriculture</td>\n",
       "      <td>Trees/shrubs</td>\n",
       "      <td>None</td>\n",
       "      <td>Other</td>\n",
       "      <td>Other</td>\n",
       "      <td>Plants below the surface</td>\n",
       "      <td>No algae</td>\n",
       "      <td>Steady</td>\n",
       "      <td>Average</td>\n",
       "      <td>7.50</td>\n",
       "      <td>0.075</td>\n",
       "      <td>2019-11-02</td>\n",
       "      <td>2019-11-01</td>\n",
       "      <td>43.646</td>\n",
       "      <td>11.169</td>\n",
       "    </tr>\n",
       "  </tbody>\n",
       "</table>\n",
       "</div>"
      ],
      "text/plain": [
       "   index sample_date     site_name geolocation_lat_long fw_bodytype  \\\n",
       "0      0  2019-11-05   Shimungalu       -15.754, 27.784       River   \n",
       "1      1  2019-11-05   Shimungalu       -15.754, 27.785       River   \n",
       "2      2  2019-11-05  custom house       53.348, -6.252       River   \n",
       "3      3  2019-11-05   Shimungalu       -15.754, 27.785       River   \n",
       "4      4  2019-11-03  borro bucine       43.646, 11.169      Stream   \n",
       "\n",
       "            land_use                       bank_vegetation     water_surface  \\\n",
       "0        Agriculture                     Trees/shrubsGrass              None   \n",
       "1         Industrial                     Trees/shrubsGrass              None   \n",
       "2  Urban Residential                   No vegetation cover  LitterOily Sheen   \n",
       "3         Industrial  Trees/shrubsNo vegetation coverGrass              None   \n",
       "4        Agriculture                          Trees/shrubs              None   \n",
       "\n",
       "      pollution_sources                                          water_use  \\\n",
       "0  Industrial discharge  BoatingIrrigationSwimmingFishingPublic water s...   \n",
       "1  Industrial discharge  BoatingIrrigationSwimmingFishingPublic water s...   \n",
       "2  Urban/Road discharge                                            Boating   \n",
       "3  Industrial discharge  BoatingIrrigationSwimmingFishingPublic water s...   \n",
       "4                 Other                                              Other   \n",
       "\n",
       "                                        aquatic_life     algae water_flow  \\\n",
       "0  Floating plantsPlants emerging from the waterF...  No algae       Slow   \n",
       "1  Floating plantsPlants emerging from the waterF...  No algae       Slow   \n",
       "2                                      Aquatic birds       NaN     Steady   \n",
       "3  Floating plantsPlants emerging from the waterF...       NaN       Slow   \n",
       "4                           Plants below the surface  No algae     Steady   \n",
       "\n",
       "  water_level  nitrate  phosphate sample_date_minus1 sample_date_minus2  \\\n",
       "0         Low     0.35      0.150         2019-11-04         2019-11-03   \n",
       "1         Low     0.35      0.075         2019-11-04         2019-11-03   \n",
       "2         Low     1.50      0.150         2019-11-04         2019-11-03   \n",
       "3         Low     0.75      0.150         2019-11-04         2019-11-03   \n",
       "4     Average     7.50      0.075         2019-11-02         2019-11-01   \n",
       "\n",
       "  latitude longitude  \n",
       "0  -15.754    27.784  \n",
       "1  -15.754    27.785  \n",
       "2   53.348    -6.252  \n",
       "3  -15.754    27.785  \n",
       "4   43.646    11.169  "
      ]
     },
     "execution_count": 11,
     "metadata": {},
     "output_type": "execute_result"
    }
   ],
   "source": [
    "df_features.head()"
   ]
  },
  {
   "cell_type": "markdown",
   "metadata": {},
   "source": [
    "#### Remove nulls so that code can run for DarkSky"
   ]
  },
  {
   "cell_type": "code",
   "execution_count": 12,
   "metadata": {},
   "outputs": [],
   "source": [
    "df_features = df_features[(df_features['geolocation_lat_long'].notnull())]\n",
    "df_features = df_features[(df_features['latitude'].notnull())]\n",
    "df_features = df_features[(df_features['longitude'].notnull())]"
   ]
  },
  {
   "cell_type": "code",
   "execution_count": 13,
   "metadata": {},
   "outputs": [],
   "source": [
    "df_features.sample_date = df_features.sample_date.astype(str)\n",
    "df_features['new_date'] = df_features.sample_date.str.extract(r'(\\d+-\\d+-\\d+)')"
   ]
  },
  {
   "cell_type": "code",
   "execution_count": 14,
   "metadata": {},
   "outputs": [],
   "source": [
    "df_features.drop(columns = ['index'], inplace = True)"
   ]
  },
  {
   "cell_type": "code",
   "execution_count": 15,
   "metadata": {},
   "outputs": [
    {
     "data": {
      "text/html": [
       "<div>\n",
       "<style scoped>\n",
       "    .dataframe tbody tr th:only-of-type {\n",
       "        vertical-align: middle;\n",
       "    }\n",
       "\n",
       "    .dataframe tbody tr th {\n",
       "        vertical-align: top;\n",
       "    }\n",
       "\n",
       "    .dataframe thead th {\n",
       "        text-align: right;\n",
       "    }\n",
       "</style>\n",
       "<table border=\"1\" class=\"dataframe\">\n",
       "  <thead>\n",
       "    <tr style=\"text-align: right;\">\n",
       "      <th></th>\n",
       "      <th>sample_date</th>\n",
       "      <th>site_name</th>\n",
       "      <th>geolocation_lat_long</th>\n",
       "      <th>fw_bodytype</th>\n",
       "      <th>land_use</th>\n",
       "      <th>bank_vegetation</th>\n",
       "      <th>water_surface</th>\n",
       "      <th>pollution_sources</th>\n",
       "      <th>water_use</th>\n",
       "      <th>aquatic_life</th>\n",
       "      <th>algae</th>\n",
       "      <th>water_flow</th>\n",
       "      <th>water_level</th>\n",
       "      <th>nitrate</th>\n",
       "      <th>phosphate</th>\n",
       "      <th>sample_date_minus1</th>\n",
       "      <th>sample_date_minus2</th>\n",
       "      <th>latitude</th>\n",
       "      <th>longitude</th>\n",
       "      <th>new_date</th>\n",
       "    </tr>\n",
       "  </thead>\n",
       "  <tbody>\n",
       "    <tr>\n",
       "      <td>0</td>\n",
       "      <td>2019-11-05</td>\n",
       "      <td>Shimungalu</td>\n",
       "      <td>-15.754, 27.784</td>\n",
       "      <td>River</td>\n",
       "      <td>Agriculture</td>\n",
       "      <td>Trees/shrubsGrass</td>\n",
       "      <td>None</td>\n",
       "      <td>Industrial discharge</td>\n",
       "      <td>BoatingIrrigationSwimmingFishingPublic water s...</td>\n",
       "      <td>Floating plantsPlants emerging from the waterF...</td>\n",
       "      <td>No algae</td>\n",
       "      <td>Slow</td>\n",
       "      <td>Low</td>\n",
       "      <td>0.35</td>\n",
       "      <td>0.150</td>\n",
       "      <td>2019-11-04</td>\n",
       "      <td>2019-11-03</td>\n",
       "      <td>-15.754</td>\n",
       "      <td>27.784</td>\n",
       "      <td>2019-11-05</td>\n",
       "    </tr>\n",
       "    <tr>\n",
       "      <td>1</td>\n",
       "      <td>2019-11-05</td>\n",
       "      <td>Shimungalu</td>\n",
       "      <td>-15.754, 27.785</td>\n",
       "      <td>River</td>\n",
       "      <td>Industrial</td>\n",
       "      <td>Trees/shrubsGrass</td>\n",
       "      <td>None</td>\n",
       "      <td>Industrial discharge</td>\n",
       "      <td>BoatingIrrigationSwimmingFishingPublic water s...</td>\n",
       "      <td>Floating plantsPlants emerging from the waterF...</td>\n",
       "      <td>No algae</td>\n",
       "      <td>Slow</td>\n",
       "      <td>Low</td>\n",
       "      <td>0.35</td>\n",
       "      <td>0.075</td>\n",
       "      <td>2019-11-04</td>\n",
       "      <td>2019-11-03</td>\n",
       "      <td>-15.754</td>\n",
       "      <td>27.785</td>\n",
       "      <td>2019-11-05</td>\n",
       "    </tr>\n",
       "    <tr>\n",
       "      <td>2</td>\n",
       "      <td>2019-11-05</td>\n",
       "      <td>custom house</td>\n",
       "      <td>53.348, -6.252</td>\n",
       "      <td>River</td>\n",
       "      <td>Urban Residential</td>\n",
       "      <td>No vegetation cover</td>\n",
       "      <td>LitterOily Sheen</td>\n",
       "      <td>Urban/Road discharge</td>\n",
       "      <td>Boating</td>\n",
       "      <td>Aquatic birds</td>\n",
       "      <td>NaN</td>\n",
       "      <td>Steady</td>\n",
       "      <td>Low</td>\n",
       "      <td>1.50</td>\n",
       "      <td>0.150</td>\n",
       "      <td>2019-11-04</td>\n",
       "      <td>2019-11-03</td>\n",
       "      <td>53.348</td>\n",
       "      <td>-6.252</td>\n",
       "      <td>2019-11-05</td>\n",
       "    </tr>\n",
       "    <tr>\n",
       "      <td>3</td>\n",
       "      <td>2019-11-05</td>\n",
       "      <td>Shimungalu</td>\n",
       "      <td>-15.754, 27.785</td>\n",
       "      <td>River</td>\n",
       "      <td>Industrial</td>\n",
       "      <td>Trees/shrubsNo vegetation coverGrass</td>\n",
       "      <td>None</td>\n",
       "      <td>Industrial discharge</td>\n",
       "      <td>BoatingIrrigationSwimmingFishingPublic water s...</td>\n",
       "      <td>Floating plantsPlants emerging from the waterF...</td>\n",
       "      <td>NaN</td>\n",
       "      <td>Slow</td>\n",
       "      <td>Low</td>\n",
       "      <td>0.75</td>\n",
       "      <td>0.150</td>\n",
       "      <td>2019-11-04</td>\n",
       "      <td>2019-11-03</td>\n",
       "      <td>-15.754</td>\n",
       "      <td>27.785</td>\n",
       "      <td>2019-11-05</td>\n",
       "    </tr>\n",
       "    <tr>\n",
       "      <td>4</td>\n",
       "      <td>2019-11-03</td>\n",
       "      <td>borro bucine</td>\n",
       "      <td>43.646, 11.169</td>\n",
       "      <td>Stream</td>\n",
       "      <td>Agriculture</td>\n",
       "      <td>Trees/shrubs</td>\n",
       "      <td>None</td>\n",
       "      <td>Other</td>\n",
       "      <td>Other</td>\n",
       "      <td>Plants below the surface</td>\n",
       "      <td>No algae</td>\n",
       "      <td>Steady</td>\n",
       "      <td>Average</td>\n",
       "      <td>7.50</td>\n",
       "      <td>0.075</td>\n",
       "      <td>2019-11-02</td>\n",
       "      <td>2019-11-01</td>\n",
       "      <td>43.646</td>\n",
       "      <td>11.169</td>\n",
       "      <td>2019-11-03</td>\n",
       "    </tr>\n",
       "  </tbody>\n",
       "</table>\n",
       "</div>"
      ],
      "text/plain": [
       "  sample_date     site_name geolocation_lat_long fw_bodytype  \\\n",
       "0  2019-11-05   Shimungalu       -15.754, 27.784       River   \n",
       "1  2019-11-05   Shimungalu       -15.754, 27.785       River   \n",
       "2  2019-11-05  custom house       53.348, -6.252       River   \n",
       "3  2019-11-05   Shimungalu       -15.754, 27.785       River   \n",
       "4  2019-11-03  borro bucine       43.646, 11.169      Stream   \n",
       "\n",
       "            land_use                       bank_vegetation     water_surface  \\\n",
       "0        Agriculture                     Trees/shrubsGrass              None   \n",
       "1         Industrial                     Trees/shrubsGrass              None   \n",
       "2  Urban Residential                   No vegetation cover  LitterOily Sheen   \n",
       "3         Industrial  Trees/shrubsNo vegetation coverGrass              None   \n",
       "4        Agriculture                          Trees/shrubs              None   \n",
       "\n",
       "      pollution_sources                                          water_use  \\\n",
       "0  Industrial discharge  BoatingIrrigationSwimmingFishingPublic water s...   \n",
       "1  Industrial discharge  BoatingIrrigationSwimmingFishingPublic water s...   \n",
       "2  Urban/Road discharge                                            Boating   \n",
       "3  Industrial discharge  BoatingIrrigationSwimmingFishingPublic water s...   \n",
       "4                 Other                                              Other   \n",
       "\n",
       "                                        aquatic_life     algae water_flow  \\\n",
       "0  Floating plantsPlants emerging from the waterF...  No algae       Slow   \n",
       "1  Floating plantsPlants emerging from the waterF...  No algae       Slow   \n",
       "2                                      Aquatic birds       NaN     Steady   \n",
       "3  Floating plantsPlants emerging from the waterF...       NaN       Slow   \n",
       "4                           Plants below the surface  No algae     Steady   \n",
       "\n",
       "  water_level  nitrate  phosphate sample_date_minus1 sample_date_minus2  \\\n",
       "0         Low     0.35      0.150         2019-11-04         2019-11-03   \n",
       "1         Low     0.35      0.075         2019-11-04         2019-11-03   \n",
       "2         Low     1.50      0.150         2019-11-04         2019-11-03   \n",
       "3         Low     0.75      0.150         2019-11-04         2019-11-03   \n",
       "4     Average     7.50      0.075         2019-11-02         2019-11-01   \n",
       "\n",
       "  latitude longitude    new_date  \n",
       "0  -15.754    27.784  2019-11-05  \n",
       "1  -15.754    27.785  2019-11-05  \n",
       "2   53.348    -6.252  2019-11-05  \n",
       "3  -15.754    27.785  2019-11-05  \n",
       "4   43.646    11.169  2019-11-03  "
      ]
     },
     "execution_count": 15,
     "metadata": {},
     "output_type": "execute_result"
    }
   ],
   "source": [
    "df_features.head()"
   ]
  },
  {
   "cell_type": "code",
   "execution_count": 16,
   "metadata": {},
   "outputs": [
    {
     "data": {
      "text/plain": [
       "(24203, 20)"
      ]
     },
     "execution_count": 16,
     "metadata": {},
     "output_type": "execute_result"
    }
   ],
   "source": [
    "df_features.shape"
   ]
  },
  {
   "cell_type": "markdown",
   "metadata": {},
   "source": [
    "#### Save file"
   ]
  },
  {
   "cell_type": "code",
   "execution_count": 17,
   "metadata": {},
   "outputs": [],
   "source": [
    "df_features.to_csv('Earthwatch_Data/Darksky_df_features.csv', index = False )"
   ]
  },
  {
   "cell_type": "markdown",
   "metadata": {},
   "source": [
    "### Pull from DarkSky API"
   ]
  },
  {
   "cell_type": "code",
   "execution_count": 18,
   "metadata": {},
   "outputs": [],
   "source": [
    "secret_key = ''"
   ]
  },
  {
   "cell_type": "code",
   "execution_count": 19,
   "metadata": {},
   "outputs": [
    {
     "data": {
      "application/vnd.jupyter.widget-view+json": {
       "model_id": "0f927c79f55346ce898575aa7f9e3bec",
       "version_major": 2,
       "version_minor": 0
      },
      "text/plain": [
       "HBox(children=(IntProgress(value=1, bar_style='info', max=1), HTML(value='')))"
      ]
     },
     "metadata": {},
     "output_type": "display_data"
    },
    {
     "name": "stdout",
     "output_type": "stream",
     "text": [
      "\n"
     ]
    }
   ],
   "source": [
    "# I can only do 2,000 pulls a day free, so needed to run this in chunks\n",
    "url_template = 'https://api.darksky.net/forecast/{}/{},{},{}T20:00:00Z?exclude=currently?exclude=hourly&units=si'\n",
    "\n",
    "lat_list = []\n",
    "long_list = []\n",
    "\n",
    "temperatureHigh = []\n",
    "temperatureLow = []\n",
    "\n",
    "summary = []\n",
    "icon = []\n",
    "\n",
    "precipIntensity = []\n",
    "precipIntensityMax = []\n",
    "\n",
    "humidity = []\n",
    "pressure = []\n",
    "windSpeed = []\n",
    "windGust = []\n",
    "cloudCover = []\n",
    "ozone = []\n",
    "\n",
    "for i, j in  tqdm_notebook (df_features[0:10].iterrows()):\n",
    "    lat = j[17]\n",
    "    long = (j[18].strip()) #removes whitespace\n",
    "    date_minus1 = (j[15])\n",
    "    \n",
    "    url_template_1 = 'https://api.darksky.net/forecast/secret_key/{},{},{}T20:00:00Z?exclude=currently?exclude=hourly&units=si'\n",
    "\n",
    "    request_url_1 = url_template.format(secret_key,lat,long,date_minus1)\n",
    "    response = requests.get(request_url_1)\n",
    "    json_data = response.json()\n",
    "    \n",
    "    try:\n",
    "        lat_list.append(json_data['latitude'])\n",
    "    except:\n",
    "\n",
    "        lat_list.append('None')    \n",
    "    try:\n",
    "        long_list.append(json_data['longitude'])\n",
    "    except:\n",
    "        long_list.append('None') \n",
    "    try:\n",
    "        temperatureHigh.append(json_data['daily']['data'][0]['temperatureHigh'])\n",
    "    except:\n",
    "        temperatureHigh.append('None') \n",
    "    try:\n",
    "        temperatureLow.append(json_data['daily']['data'][0]['temperatureLow'])\n",
    "    except:\n",
    "        temperatureLow.append('None')   \n",
    "    try:\n",
    "         summary.append(json_data['daily']['data'][0]['summary'])\n",
    "    except:\n",
    "         summary.append('None')      \n",
    "    try:\n",
    "         icon.append(json_data['daily']['data'][0]['icon'])\n",
    "    except:\n",
    "         icon.append('None')              \n",
    "    try:\n",
    "        precipIntensity.append(json_data['daily']['data'][0]['precipIntensity'])\n",
    "    except:\n",
    "        precipIntensity.append('None')\n",
    "    try:\n",
    "        precipIntensityMax.append(json_data['daily']['data'][0]['precipIntensityMax'])\n",
    "    except:\n",
    "        precipIntensityMax.append('None')\n",
    "    try:\n",
    "        humidity.append(json_data['daily']['data'][0]['humidity'])\n",
    "    except:\n",
    "        humidity.append('None')\n",
    "    try:\n",
    "        pressure.append(json_data['daily']['data'][0]['pressure'])\n",
    "    except:\n",
    "        pressure.append('None')\n",
    "    try:\n",
    "        windSpeed.append(json_data['daily']['data'][0]['windSpeed'])\n",
    "    except:\n",
    "        windSpeed.append('None')\n",
    "    try:\n",
    "        windGust.append(json_data['daily']['data'][0]['windGust'])\n",
    "    except:\n",
    "        windGust.append('None')\n",
    "                        \n",
    "    try:\n",
    "        cloudCover.append(json_data['daily']['data'][0]['cloudCover'])\n",
    "    except:\n",
    "        cloudCover.append('None')\n",
    "        \n",
    "    try:\n",
    "        ozone.append(json_data['daily']['data'][0]['ozone'])\n",
    "    except:\n",
    "        ozone.append('None')"
   ]
  },
  {
   "cell_type": "code",
   "execution_count": 20,
   "metadata": {},
   "outputs": [],
   "source": [
    "weather = pd.DataFrame({'lat_list':lat_list, 'long_list':long_list,'temperatureHigh': temperatureHigh, \n",
    "              'temperatureLow':temperatureLow, 'summary': summary, 'icon': icon, 'precipIntensity': precipIntensity,\n",
    "              'precipIntensity': precipIntensity, 'precipIntensityMax' : precipIntensityMax, 'humidity': humidity,\n",
    "              'pressure': pressure, 'windSpeed': windSpeed, 'windGust': windGust, 'cloudCover': cloudCover,\n",
    "             'ozone': ozone})"
   ]
  },
  {
   "cell_type": "code",
   "execution_count": 21,
   "metadata": {},
   "outputs": [
    {
     "data": {
      "text/html": [
       "<div>\n",
       "<style scoped>\n",
       "    .dataframe tbody tr th:only-of-type {\n",
       "        vertical-align: middle;\n",
       "    }\n",
       "\n",
       "    .dataframe tbody tr th {\n",
       "        vertical-align: top;\n",
       "    }\n",
       "\n",
       "    .dataframe thead th {\n",
       "        text-align: right;\n",
       "    }\n",
       "</style>\n",
       "<table border=\"1\" class=\"dataframe\">\n",
       "  <thead>\n",
       "    <tr style=\"text-align: right;\">\n",
       "      <th></th>\n",
       "      <th>lat_list</th>\n",
       "      <th>long_list</th>\n",
       "      <th>temperatureHigh</th>\n",
       "      <th>temperatureLow</th>\n",
       "      <th>summary</th>\n",
       "      <th>icon</th>\n",
       "      <th>precipIntensity</th>\n",
       "      <th>precipIntensityMax</th>\n",
       "      <th>humidity</th>\n",
       "      <th>pressure</th>\n",
       "      <th>windSpeed</th>\n",
       "      <th>windGust</th>\n",
       "      <th>cloudCover</th>\n",
       "      <th>ozone</th>\n",
       "    </tr>\n",
       "  </thead>\n",
       "  <tbody>\n",
       "    <tr>\n",
       "      <td>0</td>\n",
       "      <td>-15.754</td>\n",
       "      <td>27.784</td>\n",
       "      <td>36.67</td>\n",
       "      <td>23.10</td>\n",
       "      <td>Clear throughout the day.</td>\n",
       "      <td>clear-day</td>\n",
       "      <td>0.0018</td>\n",
       "      <td>0.0072</td>\n",
       "      <td>0.30</td>\n",
       "      <td>1010.9</td>\n",
       "      <td>4.71</td>\n",
       "      <td>11.54</td>\n",
       "      <td>0.25</td>\n",
       "      <td>282.4</td>\n",
       "    </tr>\n",
       "    <tr>\n",
       "      <td>1</td>\n",
       "      <td>-15.754</td>\n",
       "      <td>27.785</td>\n",
       "      <td>36.67</td>\n",
       "      <td>23.10</td>\n",
       "      <td>Clear throughout the day.</td>\n",
       "      <td>clear-day</td>\n",
       "      <td>0.0018</td>\n",
       "      <td>0.0072</td>\n",
       "      <td>0.30</td>\n",
       "      <td>1010.9</td>\n",
       "      <td>4.71</td>\n",
       "      <td>11.54</td>\n",
       "      <td>0.25</td>\n",
       "      <td>282.4</td>\n",
       "    </tr>\n",
       "    <tr>\n",
       "      <td>2</td>\n",
       "      <td>53.348</td>\n",
       "      <td>-6.252</td>\n",
       "      <td>10.71</td>\n",
       "      <td>8.82</td>\n",
       "      <td>Light rain throughout the day.</td>\n",
       "      <td>rain</td>\n",
       "      <td>0.7519</td>\n",
       "      <td>2.1410</td>\n",
       "      <td>0.95</td>\n",
       "      <td>984.7</td>\n",
       "      <td>5.17</td>\n",
       "      <td>13.85</td>\n",
       "      <td>0.87</td>\n",
       "      <td>327.1</td>\n",
       "    </tr>\n",
       "    <tr>\n",
       "      <td>3</td>\n",
       "      <td>-15.754</td>\n",
       "      <td>27.785</td>\n",
       "      <td>36.67</td>\n",
       "      <td>23.10</td>\n",
       "      <td>Clear throughout the day.</td>\n",
       "      <td>clear-day</td>\n",
       "      <td>0.0018</td>\n",
       "      <td>0.0072</td>\n",
       "      <td>0.30</td>\n",
       "      <td>1010.9</td>\n",
       "      <td>4.71</td>\n",
       "      <td>11.54</td>\n",
       "      <td>0.25</td>\n",
       "      <td>282.4</td>\n",
       "    </tr>\n",
       "    <tr>\n",
       "      <td>4</td>\n",
       "      <td>43.646</td>\n",
       "      <td>11.169</td>\n",
       "      <td>17.26</td>\n",
       "      <td>14.21</td>\n",
       "      <td>Light rain throughout the day.</td>\n",
       "      <td>rain</td>\n",
       "      <td>0.5085</td>\n",
       "      <td>1.8537</td>\n",
       "      <td>0.94</td>\n",
       "      <td>1009.5</td>\n",
       "      <td>1.82</td>\n",
       "      <td>8.82</td>\n",
       "      <td>1.00</td>\n",
       "      <td>279.1</td>\n",
       "    </tr>\n",
       "  </tbody>\n",
       "</table>\n",
       "</div>"
      ],
      "text/plain": [
       "   lat_list  long_list  temperatureHigh  temperatureLow  \\\n",
       "0   -15.754     27.784            36.67           23.10   \n",
       "1   -15.754     27.785            36.67           23.10   \n",
       "2    53.348     -6.252            10.71            8.82   \n",
       "3   -15.754     27.785            36.67           23.10   \n",
       "4    43.646     11.169            17.26           14.21   \n",
       "\n",
       "                          summary       icon  precipIntensity  \\\n",
       "0       Clear throughout the day.  clear-day           0.0018   \n",
       "1       Clear throughout the day.  clear-day           0.0018   \n",
       "2  Light rain throughout the day.       rain           0.7519   \n",
       "3       Clear throughout the day.  clear-day           0.0018   \n",
       "4  Light rain throughout the day.       rain           0.5085   \n",
       "\n",
       "   precipIntensityMax  humidity  pressure  windSpeed  windGust  cloudCover  \\\n",
       "0              0.0072      0.30    1010.9       4.71     11.54        0.25   \n",
       "1              0.0072      0.30    1010.9       4.71     11.54        0.25   \n",
       "2              2.1410      0.95     984.7       5.17     13.85        0.87   \n",
       "3              0.0072      0.30    1010.9       4.71     11.54        0.25   \n",
       "4              1.8537      0.94    1009.5       1.82      8.82        1.00   \n",
       "\n",
       "   ozone  \n",
       "0  282.4  \n",
       "1  282.4  \n",
       "2  327.1  \n",
       "3  282.4  \n",
       "4  279.1  "
      ]
     },
     "execution_count": 21,
     "metadata": {},
     "output_type": "execute_result"
    }
   ],
   "source": [
    "weather.head()"
   ]
  },
  {
   "cell_type": "markdown",
   "metadata": {},
   "source": [
    "#### Save to file"
   ]
  },
  {
   "cell_type": "code",
   "execution_count": 23,
   "metadata": {},
   "outputs": [],
   "source": [
    "weather.to_csv('EARTHWATCH_Data/Darksky_23000_24203.csv', index = False )"
   ]
  },
  {
   "cell_type": "markdown",
   "metadata": {},
   "source": [
    "### 2) Combine dataset with weather features"
   ]
  },
  {
   "cell_type": "code",
   "execution_count": 24,
   "metadata": {},
   "outputs": [],
   "source": [
    "ds_1 = pd.read_csv('Earthwatch_Data/Darksky/Darksky_200.csv')\n",
    "ds_2 = pd.read_csv('Earthwatch_Data/Darksky/Darksky_200_400.csv')\n",
    "ds_3 = pd.read_csv('Earthwatch_Data//Darksky/Darksky_400_800.csv')\n",
    "ds_4 = pd.read_csv('Earthwatch_Data/Darksky/Darksky_800_1000.csv')\n",
    "ds_5 = pd.read_csv('Earthwatch_Data/Darksky/Darksky_1000_2000.csv')\n",
    "ds_6 = pd.read_csv('Earthwatch_Data/Darksky/Darksky_2000_5000.csv')\n",
    "ds_7 = pd.read_csv('Earthwatch_Data/Darksky/Darksky_5000_6000.csv')\n",
    "ds_8 = pd.read_csv('Earthwatch_Data/Darksky/Darksky_6000_6500.csv')\n",
    "ds_9 = pd.read_csv('Earthwatch_Data/Darksky/Darksky_6500_7000.csv')\n",
    "ds_10 = pd.read_csv('Earthwatch_Data/Darksky/Darksky_7000_9000.csv')\n",
    "ds_11 = pd.read_csv('Earthwatch_Data/Darksky/Darksky_9000_11000.csv')\n",
    "ds_12 = pd.read_csv('Earthwatch_Data/Darksky/Darksky_11000_13000.csv')\n",
    "ds_13 = pd.read_csv('Earthwatch_Data/Darksky/Darksky_13000_14400.csv')\n",
    "ds_14 = pd.read_csv('Earthwatch_Data/Darksky/Darksky_14400_15000.csv')\n",
    "ds_15 = pd.read_csv('Earthwatch_Data/Darksky/Darksky_15000_17000.csv')\n",
    "ds_16 = pd.read_csv('Earthwatch_Data/Darksky/Darksky_17000_19000.csv')\n",
    "ds_17 = pd.read_csv('Earthwatch_Data/Darksky/Darksky_19000_21000.csv')\n",
    "ds_18 = pd.read_csv('Earthwatch_Data/Darksky/Darksky_21000_23000.csv')\n",
    "ds_19 = pd.read_csv('Earthwatch_Data/Darksky/Darksky_23000_24203.csv')"
   ]
  },
  {
   "cell_type": "code",
   "execution_count": 25,
   "metadata": {},
   "outputs": [],
   "source": [
    "ds_2 = ds_2.drop(columns = ['Unnamed: 0'] )"
   ]
  },
  {
   "cell_type": "markdown",
   "metadata": {},
   "source": [
    "#### Weather dataframe only"
   ]
  },
  {
   "cell_type": "code",
   "execution_count": 26,
   "metadata": {},
   "outputs": [],
   "source": [
    "frames = [ds_1, ds_2, ds_3, ds_4, ds_5, ds_6, ds_7, ds_8, ds_9, ds_10, ds_11,\n",
    "         ds_12, ds_13, ds_14, ds_15, ds_16, ds_17, ds_18, ds_19]\n",
    "\n",
    "result = pd.concat(frames)\n",
    "result.to_csv('Earthwatch_Data/Darksky/darksky_complete.csv', index = False)"
   ]
  },
  {
   "cell_type": "code",
   "execution_count": 27,
   "metadata": {},
   "outputs": [],
   "source": [
    "result.reset_index(inplace = True, drop = True)"
   ]
  },
  {
   "cell_type": "markdown",
   "metadata": {},
   "source": [
    "#### Combine weather dataset and Earthwatch dataset"
   ]
  },
  {
   "cell_type": "code",
   "execution_count": 28,
   "metadata": {},
   "outputs": [],
   "source": [
    "df_weather = pd.concat([df_features, result], axis=1)"
   ]
  },
  {
   "cell_type": "markdown",
   "metadata": {},
   "source": [
    "#### Save completed data to file"
   ]
  },
  {
   "cell_type": "code",
   "execution_count": 29,
   "metadata": {},
   "outputs": [],
   "source": [
    "df_weather.to_csv('Earthwatch_Data/Darksky/df_weather.csv', index = False)"
   ]
  }
 ],
 "metadata": {
  "kernelspec": {
   "display_name": "Python 3",
   "language": "python",
   "name": "python3"
  },
  "language_info": {
   "codemirror_mode": {
    "name": "ipython",
    "version": 3
   },
   "file_extension": ".py",
   "mimetype": "text/x-python",
   "name": "python",
   "nbconvert_exporter": "python",
   "pygments_lexer": "ipython3",
   "version": "3.7.4"
  },
  "toc": {
   "base_numbering": 1,
   "nav_menu": {},
   "number_sections": true,
   "sideBar": true,
   "skip_h1_title": false,
   "title_cell": "Table of Contents",
   "title_sidebar": "Contents",
   "toc_cell": false,
   "toc_position": {},
   "toc_section_display": true,
   "toc_window_display": false
  },
  "varInspector": {
   "cols": {
    "lenName": 16,
    "lenType": 16,
    "lenVar": 40
   },
   "kernels_config": {
    "python": {
     "delete_cmd_postfix": "",
     "delete_cmd_prefix": "del ",
     "library": "var_list.py",
     "varRefreshCmd": "print(var_dic_list())"
    },
    "r": {
     "delete_cmd_postfix": ") ",
     "delete_cmd_prefix": "rm(",
     "library": "var_list.r",
     "varRefreshCmd": "cat(var_dic_list()) "
    }
   },
   "types_to_exclude": [
    "module",
    "function",
    "builtin_function_or_method",
    "instance",
    "_Feature"
   ],
   "window_display": false
  }
 },
 "nbformat": 4,
 "nbformat_minor": 2
}
